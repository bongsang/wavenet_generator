{
 "cells": [
  {
   "cell_type": "markdown",
   "metadata": {},
   "source": [
    "# Google WaveNet TTS Demo (Reference)"
   ]
  },
  {
   "cell_type": "code",
   "execution_count": 1,
   "metadata": {},
   "outputs": [],
   "source": [
    "from google.cloud import texttospeech\n",
    "import os\n",
    "\n",
    "# Credential\n",
    "os.environ['GOOGLE_APPLICATION_CREDENTIALS'] = '/home/bongsang/projects/fast-forecast/credentials/bongsang-e0387de18c7e.json'\n",
    "\n",
    "# Instantiates a client\n",
    "client = texttospeech.TextToSpeechClient()\n",
    "\n",
    "import time\n",
    "from IPython.display import Audio\n",
    "%matplotlib inline"
   ]
  },
  {
   "cell_type": "markdown",
   "metadata": {},
   "source": [
    "## Voice type set up"
   ]
  },
  {
   "cell_type": "code",
   "execution_count": 2,
   "metadata": {},
   "outputs": [],
   "source": [
    "# language_code_wavenet = 'en-GB-Wavenet-A' # UK Female\n",
    "# language_code_wavenet = 'en-GB-Wavenet-B' # UK male\n",
    "# language_code_wavenet = 'en-US-Wavenet-D' # US male\n",
    "language_code_wavenet = 'ko-KR-Wavenet-A' # Korean Female"
   ]
  },
  {
   "cell_type": "markdown",
   "metadata": {},
   "source": [
    "## Input text that you want to say."
   ]
  },
  {
   "cell_type": "code",
   "execution_count": 3,
   "metadata": {},
   "outputs": [],
   "source": [
    "input_text = '안녕하세요. 저는 LG전자 로보킹입니다. 지그재그 청소를 시작하겠습니다.'"
   ]
  },
  {
   "cell_type": "code",
   "execution_count": null,
   "metadata": {},
   "outputs": [],
   "source": [
    "input_text = input()"
   ]
  },
  {
   "cell_type": "code",
   "execution_count": 4,
   "metadata": {},
   "outputs": [
    {
     "name": "stdout",
     "output_type": "stream",
     "text": [
      "Generating time = 1.06 seconds\n"
     ]
    }
   ],
   "source": [
    "tic = time.time()\n",
    "\n",
    "# Set the text input to be synthesized\n",
    "synthesis_input = texttospeech.types.SynthesisInput(text=input_text)\n",
    "\n",
    "# Build the voice request, select the language code (\"en-US\") and the ssml\n",
    "# voice gender (\"neutral\")\n",
    "\n",
    "voice_wavenet = texttospeech.types.VoiceSelectionParams(\n",
    "    language_code=language_code_wavenet,\n",
    "    ssml_gender=texttospeech.enums.SsmlVoiceGender.NEUTRAL)\n",
    "\n",
    "# Select the type of audio file you want returned\n",
    "audio_config = texttospeech.types.AudioConfig(\n",
    "    audio_encoding=texttospeech.enums.AudioEncoding.MP3)\n",
    "\n",
    "# Perform the text-to-speech request on the text input with the selected\n",
    "# voice parameters and audio file type\n",
    "\n",
    "response_wavenet = client.synthesize_speech(synthesis_input, voice_wavenet, audio_config)\n",
    "# The response's audio_content is binary.\n",
    "with open('wavenet_output.mp3', 'wb') as out:\n",
    "    out.write(response_wavenet.audio_content)\n",
    "\n",
    "toc = time.time()\n",
    "\n",
    "print(f'Generating time = {round(toc - tic, 2)} seconds')"
   ]
  },
  {
   "cell_type": "markdown",
   "metadata": {},
   "source": [
    "### WaveNet TTS"
   ]
  },
  {
   "cell_type": "code",
   "execution_count": 5,
   "metadata": {},
   "outputs": [
    {
     "data": {
      "text/html": [
       "\n",
       "                <audio controls=\"controls\" >\n",
       "                    <source src=\"data:audio/mpeg;base64,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\" type=\"audio/mpeg\" />\n",
       "                    Your browser does not support the audio element.\n",
       "                </audio>\n",
       "              "
      ],
      "text/plain": [
       "<IPython.lib.display.Audio object>"
      ]
     },
     "execution_count": 5,
     "metadata": {},
     "output_type": "execute_result"
    }
   ],
   "source": [
    "Audio('wavenet_output.mp3', rate=44100)"
   ]
  },
  {
   "cell_type": "code",
   "execution_count": null,
   "metadata": {},
   "outputs": [],
   "source": []
  }
 ],
 "metadata": {
  "kernelspec": {
   "display_name": "Python 3",
   "language": "python",
   "name": "python3"
  },
  "language_info": {
   "codemirror_mode": {
    "name": "ipython",
    "version": 3
   },
   "file_extension": ".py",
   "mimetype": "text/x-python",
   "name": "python",
   "nbconvert_exporter": "python",
   "pygments_lexer": "ipython3",
   "version": "3.6.6"
  }
 },
 "nbformat": 4,
 "nbformat_minor": 2
}
